{
 "cells": [
  {
   "cell_type": "markdown",
   "id": "c0ae6ae1",
   "metadata": {},
   "source": [
    "# TITLE: Data Science Tools and Ecosystem"
   ]
  },
  {
   "cell_type": "code",
   "execution_count": null,
   "id": "d1cc6ac0",
   "metadata": {},
   "outputs": [],
   "source": [
    "In this notebook, Data Science Tools and Ecosystem are summarized."
   ]
  },
  {
   "cell_type": "markdown",
   "id": "980ec68a",
   "metadata": {},
   "source": [
    "###### Datascience languages:\n",
    "\n",
    "    1.C/C++\n",
    "    \n",
    "    2.SQL\n",
    "    \n",
    "    3.Java\n",
    "    \n",
    "    4.Python\n",
    "    \n",
    "    5.R\n",
    "    \n",
    "    6.SAS\n",
    "    \n",
    "    7.Swift\n",
    "    \n",
    "    8.Julia\n",
    "    \n",
    "    9.Scala\n",
    "    \n",
    "    10.MATLAB\n",
    "    \n",
    "    \n",
    "    \n",
    "    "
   ]
  },
  {
   "cell_type": "markdown",
   "id": "dd669b4f",
   "metadata": {},
   "source": [
    "###### Datascience libraries:\n",
    "\n",
    "1.Pandas\n",
    "\n",
    "2.Numpy\n",
    "\n",
    "3.Beautiful soup\n",
    "\n",
    "4.SciKit-Learn\n",
    "\n",
    "5.TensorFlow.\n",
    "\n",
    "6.PyTorch\n",
    "\n",
    "7.Seaborn\n",
    "\n",
    "8.Mathplotlib\n",
    "\n",
    "9.Pycaret\n",
    "\n",
    "10.SQLalchemy\n",
    "\n",
    "\n",
    "\n",
    "\n",
    "\n",
    "\n"
   ]
  },
  {
   "cell_type": "markdown",
   "id": "8d8c7450",
   "metadata": {},
   "source": [
    "\n",
    "|Data Science Tools|\n",
    "|------------------|       \n",
    "|Apache Spark|\n",
    "|            |        \n",
    "|Apache Hadoop|\n",
    "|             |         \n",
    "|Python|\n",
    "|                 |\n",
    "|Microsoft PowerBI|\n",
    "|                 |                \n",
    "|SAS|\n",
    "|                 |   \n",
    "|Jupyter notebook|\n",
    "|                |             \n",
    "|Anaconda|\n",
    "|                |       \n",
    "|Tensor Flow|\n",
    "\n",
    "\n",
    "\n"
   ]
  },
  {
   "cell_type": "markdown",
   "id": "297ef2c3",
   "metadata": {},
   "source": [
    "### Few examples of Evaluating Arithmetic expressions in Python:\n",
    "\n",
    "1.Addition\n",
    "\n",
    "2.Multiplication\n",
    "\n",
    "3.Subtraction \n",
    "\n",
    "4.Division\n",
    "\n"
   ]
  },
  {
   "cell_type": "code",
   "execution_count": 2,
   "id": "3ecb653c",
   "metadata": {},
   "outputs": [
    {
     "data": {
      "text/plain": [
       "125"
      ]
     },
     "execution_count": 2,
     "metadata": {},
     "output_type": "execute_result"
    }
   ],
   "source": [
    "#Addition:\n",
    "    \n",
    "a=36;b=89\n",
    "\n",
    "a+b\n",
    "\n",
    "#Result: 125"
   ]
  },
  {
   "cell_type": "code",
   "execution_count": 24,
   "id": "8cafff88",
   "metadata": {},
   "outputs": [
    {
     "data": {
      "text/plain": [
       "1472"
      ]
     },
     "execution_count": 24,
     "metadata": {},
     "output_type": "execute_result"
    }
   ],
   "source": [
    "#Multiplication:\n",
    "    \n",
    "(86+98)*8\n",
    "\n",
    "#Result: 1472\n"
   ]
  },
  {
   "cell_type": "code",
   "execution_count": 10,
   "id": "1b84c749",
   "metadata": {},
   "outputs": [
    {
     "data": {
      "text/plain": [
       "2.0"
      ]
     },
     "execution_count": 10,
     "metadata": {},
     "output_type": "execute_result"
    }
   ],
   "source": [
    "#Subtraction and Division:\n",
    "    \n",
    "(89-63)/13\n",
    "#Result: 2.0"
   ]
  },
  {
   "cell_type": "code",
   "execution_count": 25,
   "id": "b09a0a98",
   "metadata": {},
   "outputs": [
    {
     "data": {
      "text/plain": [
       "16777216"
      ]
     },
     "execution_count": 25,
     "metadata": {},
     "output_type": "execute_result"
    }
   ],
   "source": [
    "#Exponential form:\n",
    "    \n",
    "8**8\n",
    "\n",
    "#Result: 16777216"
   ]
  },
  {
   "cell_type": "code",
   "execution_count": 12,
   "id": "c0764e83",
   "metadata": {},
   "outputs": [
    {
     "data": {
      "text/plain": [
       "108723.625"
      ]
     },
     "execution_count": 12,
     "metadata": {},
     "output_type": "execute_result"
    }
   ],
   "source": [
    "#Division showing answer with decimails:\n",
    "\n",
    "869789/8\n",
    "\n",
    "#Result: 108723.625"
   ]
  },
  {
   "cell_type": "code",
   "execution_count": 3,
   "id": "fb7c8987",
   "metadata": {},
   "outputs": [
    {
     "data": {
      "text/plain": [
       "5168"
      ]
     },
     "execution_count": 3,
     "metadata": {},
     "output_type": "execute_result"
    }
   ],
   "source": [
    "#This a simple arithmetic expression to mutiply then add integers.\n",
    "\n",
    "(78*65)+98\n",
    "\n",
    "# Result: 5168"
   ]
  },
  {
   "cell_type": "markdown",
   "id": "97ad1b33",
   "metadata": {},
   "source": [
    "#Convert minutes to hours:\n",
    "\n",
    "Mins =360;\n",
    "Hrs = Mins/60;\n",
    "print(str(Hrs))\n",
    "\n",
    "# Result: 6hours\n"
   ]
  },
  {
   "cell_type": "markdown",
   "id": "092524b7",
   "metadata": {},
   "source": [
    "**Objectives**:\n",
    "\n",
    "- Popular languages for Data Science.\n",
    "- Data Science Tools.\n",
    "- Listing Libraries.\n",
    "- Arithmetic Expressions.\n",
    "- Conversions."
   ]
  },
  {
   "cell_type": "markdown",
   "id": "85ab4a11",
   "metadata": {},
   "source": [
    "## Author:\n",
    "\n",
    "Vijaya.S\n"
   ]
  },
  {
   "cell_type": "code",
   "execution_count": null,
   "id": "69830425",
   "metadata": {},
   "outputs": [],
   "source": []
  }
 ],
 "metadata": {
  "kernelspec": {
   "display_name": "Python 3 (ipykernel)",
   "language": "python",
   "name": "python3"
  },
  "language_info": {
   "codemirror_mode": {
    "name": "ipython",
    "version": 3
   },
   "file_extension": ".py",
   "mimetype": "text/x-python",
   "name": "python",
   "nbconvert_exporter": "python",
   "pygments_lexer": "ipython3",
   "version": "3.10.9"
  }
 },
 "nbformat": 4,
 "nbformat_minor": 5
}
