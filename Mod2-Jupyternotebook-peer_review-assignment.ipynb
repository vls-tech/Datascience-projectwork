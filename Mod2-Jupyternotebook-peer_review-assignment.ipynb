{
 "cells": [
  {
   "cell_type": "markdown",
   "id": "c0ae6ae1",
   "metadata": {},
   "source": [
    "# TITLE: Mod2-Jupyternotebook-peer_review-assignment.ipynb"
   ]
  },
  {
   "cell_type": "markdown",
   "id": "152fc69f",
   "metadata": {},
   "source": [
    "*\"Assignment under module 2 of IBM Datascience certification about working on Jupyternotebook excercise and sending for peer review.\"* "
   ]
  },
  {
   "cell_type": "markdown",
   "id": "980ec68a",
   "metadata": {},
   "source": [
    "###### Datascience languages:\n",
    "\n",
    "    1.C/C++\n",
    "    \n",
    "    2.SQL\n",
    "    \n",
    "    3.Java\n",
    "    \n",
    "    4.Python\n",
    "    \n",
    "    5.R\n",
    "    \n",
    "    6.SAS\n",
    "    \n",
    "    7.Swift\n",
    "    \n",
    "    8.Julia\n",
    "    \n",
    "    9.Scala\n",
    "    \n",
    "    10.MATLAB\n",
    "    \n",
    "    \n",
    "    \n",
    "    "
   ]
  },
  {
   "cell_type": "markdown",
   "id": "dd669b4f",
   "metadata": {},
   "source": [
    "###### Datascience libraries:\n",
    "\n",
    "1.Pandas\n",
    "\n",
    "2.Numpy\n",
    "\n",
    "3.Beautiful soup\n",
    "\n",
    "4.SciKit-Learn\n",
    "\n",
    "5.TensorFlow.\n",
    "\n",
    "6.PyTorch\n",
    "\n",
    "7.Seaborn\n",
    "\n",
    "8.Mathplotlib\n",
    "\n",
    "9.Pycaret\n",
    "\n",
    "10.SQLalchemy\n",
    "\n",
    "\n",
    "\n",
    "\n",
    "\n",
    "\n"
   ]
  },
  {
   "cell_type": "markdown",
   "id": "8d8c7450",
   "metadata": {},
   "source": [
    "                            ###### DataScience Tools  \n",
    "________________________________________________________________________________________________________________________________\n",
    "\n",
    "| Apache Spark | Apache Hadoop | Python | Microsoft PowerBI | SAS | Jupyter notebook\n",
    "\n"
   ]
  },
  {
   "cell_type": "markdown",
   "id": "90ffa27a",
   "metadata": {},
   "source": [
    "###### Evaluating Arithmetic expressions in Python:\n",
    "\n",
    "#Addition:\n",
    "    \n",
    "a=36;b=89\n",
    "\n",
    "a+b"
   ]
  },
  {
   "cell_type": "code",
   "execution_count": 35,
   "id": "2129bd6d",
   "metadata": {},
   "outputs": [
    {
     "data": {
      "text/plain": [
       "1472"
      ]
     },
     "execution_count": 35,
     "metadata": {},
     "output_type": "execute_result"
    }
   ],
   "source": [
    "#Multiplication:\n",
    "    \n",
    "(86+98)*8\n"
   ]
  },
  {
   "cell_type": "code",
   "execution_count": 22,
   "id": "1b84c749",
   "metadata": {},
   "outputs": [
    {
     "data": {
      "text/plain": [
       "2.0"
      ]
     },
     "execution_count": 22,
     "metadata": {},
     "output_type": "execute_result"
    }
   ],
   "source": [
    "#Subtraction and Division:\n",
    "    \n",
    "(89-63)/13"
   ]
  },
  {
   "cell_type": "code",
   "execution_count": 23,
   "id": "b09a0a98",
   "metadata": {},
   "outputs": [
    {
     "data": {
      "text/plain": [
       "16777216"
      ]
     },
     "execution_count": 23,
     "metadata": {},
     "output_type": "execute_result"
    }
   ],
   "source": [
    "#Exponential form:\n",
    "    \n",
    "8**8"
   ]
  },
  {
   "cell_type": "code",
   "execution_count": 24,
   "id": "c0764e83",
   "metadata": {},
   "outputs": [
    {
     "data": {
      "text/plain": [
       "108723.625"
      ]
     },
     "execution_count": 24,
     "metadata": {},
     "output_type": "execute_result"
    }
   ],
   "source": [
    "#Division showing answer with decimails:\n",
    "\n",
    "869789/8"
   ]
  },
  {
   "cell_type": "code",
   "execution_count": 36,
   "id": "fb7c8987",
   "metadata": {},
   "outputs": [
    {
     "data": {
      "text/plain": [
       "5168"
      ]
     },
     "execution_count": 36,
     "metadata": {},
     "output_type": "execute_result"
    }
   ],
   "source": [
    "#Multiply and add numbers\n",
    "(78*65)+98"
   ]
  },
  {
   "cell_type": "code",
   "execution_count": 33,
   "id": "3648dbbd",
   "metadata": {},
   "outputs": [
    {
     "name": "stdout",
     "output_type": "stream",
     "text": [
      "a is greater than b\n"
     ]
    }
   ],
   "source": [
    "a = 78\n",
    "b = 36\n",
    "if b > a:\n",
    "  print(\"b is greater than a\")\n",
    "elif a == b:\n",
    "  print(\"a and b are equal\")\n",
    "else:\n",
    "  print(\"a is greater than b\")"
   ]
  },
  {
   "cell_type": "code",
   "execution_count": 32,
   "id": "8bfb00a2",
   "metadata": {},
   "outputs": [
    {
     "name": "stdout",
     "output_type": "stream",
     "text": [
      "3.0\n"
     ]
    }
   ],
   "source": [
    "#Convert minutes to hours:\n",
    "Mins =180;\n",
    "Hrs = Mins/60;\n",
    "\n",
    "print(str(Hrs))\n"
   ]
  },
  {
   "cell_type": "markdown",
   "id": "092524b7",
   "metadata": {},
   "source": [
    "###### Objectives:\n",
    "\n",
    "- Data modeling\n",
    "- Data Staging\n",
    "- Data Warehouse\n",
    "- Data Mining/Visualization"
   ]
  },
  {
   "cell_type": "markdown",
   "id": "85ab4a11",
   "metadata": {},
   "source": [
    "Book : Getting Started with Data Science.\n",
    "\n",
    "\n",
    "Author's name :  Dr. Murtaza Haider, PhD"
   ]
  },
  {
   "cell_type": "markdown",
   "id": "720d901c",
   "metadata": {},
   "source": []
  }
 ],
 "metadata": {
  "kernelspec": {
   "display_name": "Python 3 (ipykernel)",
   "language": "python",
   "name": "python3"
  },
  "language_info": {
   "codemirror_mode": {
    "name": "ipython",
    "version": 3
   },
   "file_extension": ".py",
   "mimetype": "text/x-python",
   "name": "python",
   "nbconvert_exporter": "python",
   "pygments_lexer": "ipython3",
   "version": "3.10.9"
  }
 },
 "nbformat": 4,
 "nbformat_minor": 5
}
