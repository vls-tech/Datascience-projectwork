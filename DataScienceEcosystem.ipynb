{
 "cells": [
  {
   "cell_type": "markdown",
   "id": "c0ae6ae1",
   "metadata": {},
   "source": [
    "# TITLE: Data Science Tools and Ecosystem"
   ]
  },
  {
   "cell_type": "markdown",
   "id": "152fc69f",
   "metadata": {},
   "source": [
    "In this notebook, Data Science Tools and Ecosystem are summarized."
   ]
  },
  {
   "cell_type": "markdown",
   "id": "980ec68a",
   "metadata": {},
   "source": [
    "###### Datascience languages:\n",
    "\n",
    "    1.C/C++\n",
    "    \n",
    "    2.SQL\n",
    "    \n",
    "    3.Java\n",
    "    \n",
    "    4.Python\n",
    "    \n",
    "    5.R\n",
    "    \n",
    "    6.SAS\n",
    "    \n",
    "    7.Swift\n",
    "    \n",
    "    8.Julia\n",
    "    \n",
    "    9.Scala\n",
    "    \n",
    "    10.MATLAB\n",
    "    \n",
    "    \n",
    "    \n",
    "    "
   ]
  },
  {
   "cell_type": "markdown",
   "id": "dd669b4f",
   "metadata": {},
   "source": [
    "###### Datascience libraries:\n",
    "\n",
    "1.Pandas\n",
    "\n",
    "2.Numpy\n",
    "\n",
    "3.Beautiful soup\n",
    "\n",
    "4.SciKit-Learn\n",
    "\n",
    "5.TensorFlow.\n",
    "\n",
    "6.PyTorch\n",
    "\n",
    "7.Seaborn\n",
    "\n",
    "8.Mathplotlib\n",
    "\n",
    "9.Pycaret\n",
    "\n",
    "10.SQLalchemy\n",
    "\n",
    "\n",
    "\n",
    "\n",
    "\n",
    "\n"
   ]
  },
  {
   "cell_type": "markdown",
   "id": "8d8c7450",
   "metadata": {},
   "source": [
    "\n",
    "|Data Science Tools|\n",
    "|------------------|       \n",
    "|Apache Spark|\n",
    "|            |        \n",
    "|Apache Hadoop|\n",
    "|             |         \n",
    "|Python|\n",
    "|                 |\n",
    "|Microsoft PowerBI|\n",
    "|                 |                \n",
    "|SAS|\n",
    "|                 |   \n",
    "|Jupyter notebook|\n",
    "|                |             \n",
    "|Anaconda|\n",
    "|                |       \n",
    "|Tensor Flow|\n",
    "\n",
    "\n",
    "\n"
   ]
  },
  {
   "cell_type": "code",
   "execution_count": null,
   "id": "727f34f8",
   "metadata": {},
   "outputs": [],
   "source": [
    "###### Evaluating Arithmetic expressions in Python:\n",
    "\n",
    "#Addition:\n",
    "    \n",
    "a=36;b=89\n",
    "\n",
    "a+b\n",
    "\n",
    "#Result: 125"
   ]
  },
  {
   "cell_type": "code",
   "execution_count": 9,
   "id": "58e0a0c3",
   "metadata": {},
   "outputs": [
    {
     "data": {
      "text/plain": [
       "1472"
      ]
     },
     "execution_count": 9,
     "metadata": {},
     "output_type": "execute_result"
    }
   ],
   "source": [
    "#Multiplication:\n",
    "    \n",
    "(86+98)*8\n",
    "\n",
    "#Result: 1472\n"
   ]
  },
  {
   "cell_type": "code",
   "execution_count": 10,
   "id": "1b84c749",
   "metadata": {},
   "outputs": [
    {
     "data": {
      "text/plain": [
       "2.0"
      ]
     },
     "execution_count": 10,
     "metadata": {},
     "output_type": "execute_result"
    }
   ],
   "source": [
    "#Subtraction and Division:\n",
    "    \n",
    "(89-63)/13\n",
    "#Result: 2.0"
   ]
  },
  {
   "cell_type": "code",
   "execution_count": 11,
   "id": "b09a0a98",
   "metadata": {},
   "outputs": [
    {
     "data": {
      "text/plain": [
       "16777216"
      ]
     },
     "execution_count": 11,
     "metadata": {},
     "output_type": "execute_result"
    }
   ],
   "source": [
    "#Exponential form:\n",
    "    \n",
    "8**8\n",
    "\n",
    "#Result: 16777216"
   ]
  },
  {
   "cell_type": "code",
   "execution_count": 12,
   "id": "c0764e83",
   "metadata": {},
   "outputs": [
    {
     "data": {
      "text/plain": [
       "108723.625"
      ]
     },
     "execution_count": 12,
     "metadata": {},
     "output_type": "execute_result"
    }
   ],
   "source": [
    "#Division showing answer with decimails:\n",
    "\n",
    "869789/8\n",
    "\n",
    "#Result: 108723.625"
   ]
  },
  {
   "cell_type": "code",
   "execution_count": 17,
   "id": "fb7c8987",
   "metadata": {},
   "outputs": [
    {
     "data": {
      "text/plain": [
       "5168"
      ]
     },
     "execution_count": 17,
     "metadata": {},
     "output_type": "execute_result"
    }
   ],
   "source": [
    "#Multiplying and add numbers\n",
    "\n",
    "(78*65)+98\n",
    "\n",
    "# Result: 5168"
   ]
  },
  {
   "cell_type": "code",
   "execution_count": 20,
   "id": "8bfb00a2",
   "metadata": {},
   "outputs": [
    {
     "name": "stdout",
     "output_type": "stream",
     "text": [
      "6.0\n"
     ]
    }
   ],
   "source": [
    "#Convert minutes to hours:\n",
    "\n",
    "Mins =360;\n",
    "Hrs = Mins/60;\n",
    "print(str(Hrs))\n",
    "\n",
    "# Result: 3hours\n"
   ]
  },
  {
   "cell_type": "markdown",
   "id": "092524b7",
   "metadata": {},
   "source": [
    "**Objectives**:\n",
    "\n",
    "- Popular languages for Data Science.\n",
    "- Data Science Tools.\n",
    "- Listing Libraries.\n",
    "- Arithmetic Expressions.\n",
    "- Conversions."
   ]
  },
  {
   "cell_type": "markdown",
   "id": "85ab4a11",
   "metadata": {},
   "source": [
    "## Authors\n",
    "\n",
    "Vijaya.S\n"
   ]
  },
  {
   "cell_type": "code",
   "execution_count": null,
   "id": "7d4d8d77",
   "metadata": {},
   "outputs": [],
   "source": []
  }
 ],
 "metadata": {
  "kernelspec": {
   "display_name": "Python 3 (ipykernel)",
   "language": "python",
   "name": "python3"
  },
  "language_info": {
   "codemirror_mode": {
    "name": "ipython",
    "version": 3
   },
   "file_extension": ".py",
   "mimetype": "text/x-python",
   "name": "python",
   "nbconvert_exporter": "python",
   "pygments_lexer": "ipython3",
   "version": "3.10.9"
  }
 },
 "nbformat": 4,
 "nbformat_minor": 5
}
