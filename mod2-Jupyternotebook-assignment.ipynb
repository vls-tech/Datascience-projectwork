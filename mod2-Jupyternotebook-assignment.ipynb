{
 "cells": [
  {
   "cell_type": "markdown",
   "id": "31cb21e8",
   "metadata": {},
   "source": [
    "Hello World!"
   ]
  },
  {
   "cell_type": "markdown",
   "id": "0b7b16cf",
   "metadata": {},
   "source": [
    "**\"I am interested in data science because I study statistics and would like to be in data analytics.\"**"
   ]
  },
  {
   "cell_type": "markdown",
   "id": "08bd309b",
   "metadata": {},
   "source": [
    "***\"Python is a simple syntax programming language\"***"
   ]
  },
  {
   "cell_type": "markdown",
   "id": "f56be263",
   "metadata": {},
   "source": [
    "*Data science is a field that uses statistics, scientific computing methods and algorithms for generating meaningful insights to the business problems.*"
   ]
  },
  {
   "cell_type": "markdown",
   "id": "fb333c3f",
   "metadata": {},
   "source": [
    "### calculate sum of two numbers"
   ]
  },
  {
   "cell_type": "code",
   "execution_count": 1,
   "id": "6b3d346b",
   "metadata": {},
   "outputs": [
    {
     "data": {
      "text/plain": [
       "1131"
      ]
     },
     "execution_count": 1,
     "metadata": {},
     "output_type": "execute_result"
    }
   ],
   "source": [
    "345+786"
   ]
  },
  {
   "cell_type": "code",
   "execution_count": 2,
   "id": "41e484f0",
   "metadata": {},
   "outputs": [
    {
     "data": {
      "text/plain": [
       "5226"
      ]
     },
     "execution_count": 2,
     "metadata": {},
     "output_type": "execute_result"
    }
   ],
   "source": [
    "67*78"
   ]
  },
  {
   "cell_type": "code",
   "execution_count": 4,
   "id": "9325e363",
   "metadata": {},
   "outputs": [
    {
     "data": {
      "text/plain": [
       "46656"
      ]
     },
     "execution_count": 4,
     "metadata": {},
     "output_type": "execute_result"
    }
   ],
   "source": [
    "6**6"
   ]
  },
  {
   "cell_type": "markdown",
   "id": "d7315e59",
   "metadata": {},
   "source": [
    "#### Languages & Popular Libraries\n",
    "SQL\n",
    "\n",
    "Java\n",
    "\n",
    "Python - Pandas,Numpy,Matplotlib,Seaborn,Beautiful soup,Scikit Learn\n",
    "\n",
    "R- tidyr,dplyr,ggplot2\n",
    "\n",
    "Julia- JuliaHub,JuliaPackages\n",
    "\n",
    "MATLAB\n"
   ]
  },
  {
   "cell_type": "code",
   "execution_count": 13,
   "id": "201bcaa7",
   "metadata": {},
   "outputs": [
    {
     "name": "stdout",
     "output_type": "stream",
     "text": [
      "b is greater than a\n"
     ]
    }
   ],
   "source": [
    "# if statement\n",
    "\n",
    "a = 98\n",
    "b = 260\n",
    "if b > a:\n",
    "  print(\"b is greater than a\")"
   ]
  },
  {
   "cell_type": "code",
   "execution_count": 14,
   "id": "7818637e",
   "metadata": {},
   "outputs": [
    {
     "name": "stdout",
     "output_type": "stream",
     "text": [
      "a and b are equal\n"
     ]
    }
   ],
   "source": [
    "a = 86\n",
    "b = 86\n",
    "if b > a:\n",
    "  print(\"b is greater than a\")\n",
    "elif a == b:\n",
    "  print(\"a and b are equal\")"
   ]
  },
  {
   "cell_type": "code",
   "execution_count": 12,
   "id": "a07de4fb",
   "metadata": {},
   "outputs": [
    {
     "name": "stdout",
     "output_type": "stream",
     "text": [
      "a is greater than b\n"
     ]
    }
   ],
   "source": [
    "a = 78\n",
    "b = 36\n",
    "if b > a:\n",
    "  print(\"b is greater than a\")\n",
    "elif a == b:\n",
    "  print(\"a and b are equal\")\n",
    "else:\n",
    "  print(\"a is greater than b\")"
   ]
  },
  {
   "cell_type": "code",
   "execution_count": null,
   "id": "029e69da",
   "metadata": {},
   "outputs": [],
   "source": []
  }
 ],
 "metadata": {
  "kernelspec": {
   "display_name": "Python 3 (ipykernel)",
   "language": "python",
   "name": "python3"
  },
  "language_info": {
   "codemirror_mode": {
    "name": "ipython",
    "version": 3
   },
   "file_extension": ".py",
   "mimetype": "text/x-python",
   "name": "python",
   "nbconvert_exporter": "python",
   "pygments_lexer": "ipython3",
   "version": "3.10.9"
  }
 },
 "nbformat": 4,
 "nbformat_minor": 5
}
